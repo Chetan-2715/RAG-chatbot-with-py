{
 "cells": [
  {
   "cell_type": "code",
   "execution_count": 7,
   "id": "3ac580da",
   "metadata": {},
   "outputs": [],
   "source": [
    "from langchain_ollama import ChatOllama\n",
    "from langchain_core.prompts import (SystemMessagePromptTemplate, HumanMessagePromptTemplate, ChatPromptTemplate)\n",
    "base_url = \"http://localhost:11434\"\n",
    "model = \"qwen3:1.7b\"\n",
    "\n",
    "llm = ChatOllama(model=model, base_url=base_url)"
   ]
  },
  {
   "cell_type": "code",
   "execution_count": 8,
   "id": "8aef1b2e",
   "metadata": {},
   "outputs": [
    {
     "name": "stdout",
     "output_type": "stream",
     "text": [
      "Response: <think>\n",
      "Okay, the user asked about the sun in five points. Let me think. First, the sun is a star, right? So that's one point. It's the main source of light for Earth. Then, it's important for plants to grow, like photosynthesis. Next, it causes day and night cycles. Also, it's a giant ball of gas, so that's another point. Lastly, it's essential for life on Earth. Let me check if these are all correct. Yes, those points make sense. Need to make sure each point is concise and clear.\n",
      "</think>\n",
      "\n",
      "The sun is a star, provides light and warmth, causes day/night cycles, is essential for plant growth, and is the main source of energy for Earth.\n"
     ]
    }
   ],
   "source": [
    "system = SystemMessagePromptTemplate.from_template('You are the {school} teacher. Answer in short sentences.')\n",
    "question = HumanMessagePromptTemplate.from_template('Tell me about {topic} in {points} points.')\n",
    "\n",
    "messages = [system, question]\n",
    "templete = ChatPromptTemplate(messages)\n",
    "\n",
    "question = templete.invoke({\"topic\": \"sun\", \"points\": 5, \"school\": \"Elimentary\"})\n",
    "response = llm.invoke(question)\n",
    "print(f\"Response: {response.content}\")"
   ]
  },
  {
   "cell_type": "code",
   "execution_count": null,
   "id": "bd3eb0aa",
   "metadata": {},
   "outputs": [],
   "source": [
    "system = SystemMessagePromptTemplate.from_template('You are the {school} teacher. Answer in short sentences.')\n",
    "question = HumanMessagePromptTemplate.from_template('Tell me about {topic} in {points} points.')\n",
    "\n",
    "messages = [system, question]\n",
    "templete = ChatPromptTemplate(messages)\n",
    "\n",
    "chain = templete | llm   # '|' this is the pipe operator\n",
    "\n",
    "\"\"\"\n",
    "First → fill the template.\n",
    "\n",
    "Then → send it to the model\n",
    "\"\"\"\n",
    "\n",
    "#   This is a LangChain Expression Language (LCEL) feature"
   ]
  },
  {
   "cell_type": "code",
   "execution_count": null,
   "id": "78b6d67b",
   "metadata": {},
   "outputs": [
    {
     "name": "stdout",
     "output_type": "stream",
     "text": [
      "<think>\n",
      "Okay, the user asked about the moon in three points. Let me think. First, the moon is Earth's natural satellite. That's a basic fact. Then, it affects tides on Earth. I should mention the gravitational pull causing high and low tides. Third point could be its phases, like full moon and new moon. Need to keep it concise and clear. Make sure each point is a separate sentence. Check for accuracy. Yep, that covers the main aspects.\n",
      "</think>\n",
      "\n",
      "The Moon is Earth's natural satellite. It causes tides on Earth through gravitational pull. It exhibits various phases due to its orbit around Earth.\n"
     ]
    }
   ],
   "source": [
    "response = chain.invoke({\"topic\": \"moon\", \"points\": 3, \"school\": \"High School\"})\n",
    "print(response.content)\n",
    "\n",
    "\"\"\"\n",
    "It automatically:\n",
    "Fills {topic}=moon, {points}=3, {school}=High School into template.\n",
    "Sends to LLM.\n",
    "\"\"\""
   ]
  },
  {
   "cell_type": "code",
   "execution_count": null,
   "id": "64211f80",
   "metadata": {},
   "outputs": [
    {
     "name": "stdout",
     "output_type": "stream",
     "text": [
      "<think>\n",
      "Okay, the user asked for four points about Earth. Let me think. First, what are the key aspects of Earth? Well, it's the only known planet with life. That's a big one. Then, its size and position in the solar system. It's the third largest planet, right? And it's in the habitable zone, which is good for life. Also, Earth's atmosphere and climate. Maybe mention the greenhouse effect. Wait, the user might want a concise answer. Let me check the points again. Make sure each point is clear and concise. Avoid technical jargon but keep it accurate. Alright, that should cover it.\n",
      "</think>\n",
      "\n",
      "Earth is the only planet known to support life. It is the third largest planet in the solar system. It lies in the habitable zone, allowing for liquid water. Its atmosphere regulates temperature and protects life from harmful radiation.\n"
     ]
    }
   ],
   "source": [
    "from langchain_core.output_parsers import StrOutputParser \n",
    "chain2 = (templete | llm | StrOutputParser())   # StrOutputParser() takes the model output and converts it into plain text\n",
    "response = chain2.invoke({\"topic\": \"earth\", \"points\": 4, \"school\": \"Middle School\"})\n",
    "print(response)"
   ]
  }
 ],
 "metadata": {
  "kernelspec": {
   "display_name": ".venv-1 (3.13.7)",
   "language": "python",
   "name": "python3"
  },
  "language_info": {
   "codemirror_mode": {
    "name": "ipython",
    "version": 3
   },
   "file_extension": ".py",
   "mimetype": "text/x-python",
   "name": "python",
   "nbconvert_exporter": "python",
   "pygments_lexer": "ipython3",
   "version": "3.13.7"
  }
 },
 "nbformat": 4,
 "nbformat_minor": 5
}
