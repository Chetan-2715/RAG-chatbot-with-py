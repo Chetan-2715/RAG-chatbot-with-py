{
 "cells": [
  {
   "cell_type": "code",
   "execution_count": 19,
   "id": "e09a23c7",
   "metadata": {},
   "outputs": [],
   "source": [
    "from langchain_ollama import ChatOllama\n",
    "\n",
    "base_url = \"http://localhost:11434\"\n",
    "model = \"gemma3:1b\"\n",
    "\n",
    "llm = ChatOllama(base_url=base_url, model=model)"
   ]
  },
  {
   "cell_type": "code",
   "execution_count": null,
   "id": "52e11283",
   "metadata": {},
   "outputs": [
    {
     "name": "stdout",
     "output_type": "stream",
     "text": [
      "Question: What is the capital of India?\n",
      "Response: The capital of India is **New Delhi**. \n",
      "\n",
      "It’s located in the center of India. 😊\n",
      "\n"
     ]
    }
   ],
   "source": [
    "question = \"What is the capital of India?\"    #   stores the user query.\n",
    "response = llm.invoke(question)    #   model answers the query.\n",
    "print(f\"Question: {question}\")   #prints the user query.\n",
    "print(f\"Response: {response.content}\")   # prints the model's answer."
   ]
  },
  {
   "cell_type": "code",
   "execution_count": 21,
   "id": "0823f7d1",
   "metadata": {},
   "outputs": [
    {
     "name": "stdout",
     "output_type": "stream",
     "text": [
      "Question: Tell 3 intersting facts about moon\n",
      "Response: Okay, here are 3 interesting facts about the Moon that you might not know:\n",
      "\n",
      "1. **The Moon Has a \"Moon Rock\" – A Single, Perfectly Shaped Rock:**  Located in Shackleton Crater on the far side of the Moon, is a fascinating rock called \"The Charybdis Rock.\" It’s incredibly dense and exceptionally smooth, and scientists believe it’s a remnant of an ancient impact that solidified over billions of years. It's a perfect, miniature replica of Earth, with a diameter of just 1.6 miles. \n",
      "\n",
      "2. **The Moon's Rotation is Weird:** The Moon doesn't rotate as a perfect circle. It actually wobbles slightly – it has a *libration* – meaning its rotational period is a little longer than 27 days. This wobble is due to tidal forces from Earth. It’s a constant, subtle dance!\n",
      "\n",
      "3. **Lunar Dust is Surprisingly Radioactive:**  The Moon's surface is covered in a fine layer of dust, but it's not just regular dirt. This dust, called regolith, contains trace amounts of radioactive elements like thorium and uranium.  It's this radioactivity, though very low, that slowly causes the Moon to slowly drift away from Earth!\n",
      "\n",
      "---\n",
      "\n",
      "Do you want to know more about any of these facts, or would you like me to tell you about something else related to the Moon?\n"
     ]
    }
   ],
   "source": [
    "question = \"Tell 3 intersting facts about moon\"\n",
    "response = llm.invoke(question)\n",
    "print(f\"Question: {question}\")\n",
    "print(f\"Response: {response.content}\")"
   ]
  },
  {
   "cell_type": "code",
   "execution_count": null,
   "id": "461ba542",
   "metadata": {},
   "outputs": [
    {
     "name": "stdout",
     "output_type": "stream",
     "text": [
      "Question: tell 3 intersting facts about moon\n",
      "Response: Okay, here are 3 really interesting facts about the Moon, explained in a way that's easy to understand for a 5th grader:\n",
      "\n",
      "1. **It’s Made of Dark Rock!** – You might think the Moon is made of dust, but it's actually *really* rock! It's mostly made of minerals like feldspar and pyroxene – think of it like a giant, dusty rock jigsaw puzzle. It’s not covered in water like Earth, which is why it looks so smooth and gray.\n",
      "\n",
      "2. **It Circles the Earth, but Doesn’t *Actually* Orbit!** – The Moon is moving around the Earth, but it’s not going in a circle around the Earth like a skater. It’s moving in a big, slightly oval shape called an ellipse.  Think of it like a ball you're rolling around a table – it curves around, but it doesn't actually spin in a circle.\n",
      "\n",
      "3. **It Has a Secret Moon Rock!** – Scientists think the Moon *might* have a small, dark rock buried deep inside. It’s called ‘The Maria’ and it’s a really cool mystery!  Scientists are trying to figure out where it is and why it's there, because it could give us clues about how the Moon formed in the first place.\n",
      "\n",
      "\n",
      "---\n",
      "\n",
      "Do you want to know another fact, or maybe we could talk about something else like asteroids or planets?\n"
     ]
    }
   ],
   "source": [
    "from langchain_core.messages import SystemMessage, HumanMessage\n",
    "\n",
    "\"\"\"\n",
    "SystemMessage: Defines the role/persona of the AI.\n",
    "HumanMessage: The actual question.\n",
    "\"\"\"\n",
    "\n",
    "question = HumanMessage(\"tell 3 intersting facts about moon\")\n",
    "system = SystemMessage(\"You are a 5th grade science teacher. Answer in a way that a 5th grader can understand.\")\n",
    "\n",
    "messagwes = [system, question]\n",
    "response = llm.invoke(messagwes)\n",
    "print(f\"Question: {question.content}\")\n",
    "print(f\"Response: {response.content}\")"
   ]
  },
  {
   "cell_type": "code",
   "execution_count": 23,
   "id": "9659ba50",
   "metadata": {},
   "outputs": [
    {
     "name": "stdout",
     "output_type": "stream",
     "text": [
      "Question: tell 3 intersting facts about moon\n",
      "Response: Alright, let’s dive into some more nuanced and less frequently discussed aspects of our celestial neighbor. As you’ll appreciate, I’m approaching this from a data-driven, theoretical perspective, focusing on the underlying physics rather than sensationalized narratives. Here are three facts that, while seemingly simple, offer a surprisingly rich perspective:\n",
      "\n",
      "**1. The Moon's Internal Structure - A ‘Crust’ of Iron and Nickel, Not Solely Rock:** While the familiar lunar “crust” is primarily silicate minerals, recent analyses, particularly using spectral mapping and gravity data from the Lunar Reconnaissance Orbiter (LRO), reveal a significantly denser core composed primarily of iron and nickel – roughly 80% of the material. This contrasts with previous assumptions that it was primarily composed of basalt.  The precise composition is still being worked out, but it's a monumental shift in our understanding of lunar composition.  Furthermore, we're finding evidence of a layered structure, possibly related to past impacts, suggesting a more complex internal history than initially envisioned. Think of it less as a simple ‘rock’ and more as a partially-melted, dense, metallic core.\n",
      "\n",
      "**2. Tidal Locking & the Influence of the ‘Dark Side’ – A Subtle but Constant Shift:**  The Moon's orbital dynamics are inextricably linked to its eccentric orbit and the influence of its ‘dark side’ (the hemisphere we don't see from Earth). The Dark Side isn’t simply a 'shadow' – it’s a region of significant tidal flexing caused by the Moon's gravitational pull.  This tidal flexing is *not* simply a geometric effect; it subtly alters the Moon’s rotation rate – averaging out to a period of about 29 days.  This means Earth’s tides are not just caused by the Moon’s gravity but by the Moon’s rotation changing *with* the Moon's position.  We’re currently utilizing sophisticated paleomagnetic data to reconstruct the Moon’s ancient rotation rate and the intricate tidal processes that have shaped it over billions of years.  It’s a complex feedback loop; understanding this requires a deep understanding of fluid dynamics and tidal mechanics.\n",
      "\n",
      "**3.  Lunar Reflectivity & the ‘Lithophile’ Effect – A Surprisingly Effective Cooling Mechanism:**  The Moon’s surface reflects a surprisingly high percentage of sunlight, significantly higher than any other celestial body. However, this reflectivity isn’t uniform.  We've observed a phenomenon called the ‘Lithophile’ effect – a subtle cooling of the lunar surface, particularly near permanently shadowed craters.  This is due to the absorption of solar radiation by lunar regolith, creating a layer of ‘thermal inertia’ that slows down the rate of heat dissipation.  This has a profound impact on the Moon’s thermal environment, influencing geological processes and potentially contributing to its unique 'cold-rock' signature. It's a fascinating interplay of physics and thermodynamics driven by the Moon's surface composition and history.  I’ve been researching this with models incorporating fractional creep and the effects of impacts, and the results suggest a significant, measurable impact on the overall lunar landscape.\n",
      "\n",
      "\n",
      "Essentially, these facts push us beyond the commonly perceived ‘rocky’ image and highlight the complexities of a celestial object sculpted by multiple geophysical processes.  Do you have any specific areas within this, or are you particularly interested in a certain type of data analysis? I'd be happy to elaborate further if you'd like.\"\n",
      "\n",
      "---\n",
      "\n",
      "Let me know if you'd like me to delve deeper into any of these points, perhaps by focusing on specific data, methodologies, or theoretical considerations.\n"
     ]
    }
   ],
   "source": [
    "from langchain_core.messages import SystemMessage, HumanMessage\n",
    "\n",
    "question = HumanMessage(\"tell 3 intersting facts about moon\")\n",
    "system = SystemMessage(\"You are a PHD scholor in astro physics and your audience are also PHD experts . Answer in a way that a PHD expert can understand.\")\n",
    "\n",
    "messagwes = [system, question]\n",
    "response = llm.invoke(messagwes)\n",
    "print(f\"Question: {question.content}\")\n",
    "print(f\"Response: {response.content}\")"
   ]
  },
  {
   "cell_type": "code",
   "execution_count": null,
   "id": "40db0d67",
   "metadata": {},
   "outputs": [],
   "source": [
    "from langchain_core.prompts import (SystemMessagePromptTemplate,    \n",
    "                                    HumanMessagePromptTemplate,\n",
    "                                    ChatPromptTemplate,\n",
    "                                    PromptTemplate\n",
    "                                    )\n",
    "\n",
    "system = SystemMessagePromptTemplate.from_template('You are the {school} teacher. Answer in short sentences.')   #  Creates a system message template.\n",
    "question = HumanMessagePromptTemplate.from_template('Tell me about {topic} in {points} points.')  # Creates a human message template."
   ]
  },
  {
   "cell_type": "code",
   "execution_count": 26,
   "id": "d2273e50",
   "metadata": {},
   "outputs": [
    {
     "name": "stdout",
     "output_type": "stream",
     "text": [
      "prompt=PromptTemplate(input_variables=['school'], input_types={}, partial_variables={}, template='You are the {school} teacher. Answer in short sentences.') additional_kwargs={}\n",
      "prompt=PromptTemplate(input_variables=['points', 'topic'], input_types={}, partial_variables={}, template='Tell me about {topic} in {points} points.') additional_kwargs={}\n"
     ]
    }
   ],
   "source": [
    "print(system)\n",
    "print(question)"
   ]
  },
  {
   "cell_type": "code",
   "execution_count": 27,
   "id": "b497b066",
   "metadata": {},
   "outputs": [
    {
     "data": {
      "text/plain": [
       "HumanMessage(content='Tell me about sun in 5 points.', additional_kwargs={}, response_metadata={})"
      ]
     },
     "execution_count": 27,
     "metadata": {},
     "output_type": "execute_result"
    }
   ],
   "source": [
    "question.format(topic=\"sun\", points=5)"
   ]
  },
  {
   "cell_type": "code",
   "execution_count": 28,
   "id": "165d29f2",
   "metadata": {},
   "outputs": [
    {
     "data": {
      "text/plain": [
       "SystemMessage(content='You are the Elimentary teacher. Answer in short sentences.', additional_kwargs={}, response_metadata={})"
      ]
     },
     "execution_count": 28,
     "metadata": {},
     "output_type": "execute_result"
    }
   ],
   "source": [
    "system.format(school=\"Elimentary\")"
   ]
  },
  {
   "cell_type": "code",
   "execution_count": 29,
   "id": "838f3be8",
   "metadata": {},
   "outputs": [
    {
     "name": "stdout",
     "output_type": "stream",
     "text": [
      "input_variables=['points', 'school', 'topic'] input_types={} partial_variables={} messages=[SystemMessagePromptTemplate(prompt=PromptTemplate(input_variables=['school'], input_types={}, partial_variables={}, template='You are the {school} teacher. Answer in short sentences.'), additional_kwargs={}), HumanMessagePromptTemplate(prompt=PromptTemplate(input_variables=['points', 'topic'], input_types={}, partial_variables={}, template='Tell me about {topic} in {points} points.'), additional_kwargs={})]\n"
     ]
    }
   ],
   "source": [
    "messages = [system, question]\n",
    "templete = ChatPromptTemplate(messages)\n",
    "print(templete)"
   ]
  },
  {
   "cell_type": "code",
   "execution_count": null,
   "id": "29146db7",
   "metadata": {},
   "outputs": [
    {
     "name": "stdout",
     "output_type": "stream",
     "text": [
      "Response: Okay, here’s a five-point overview of the sun:\n",
      "\n",
      "1.  It’s a giant ball of gas – mostly hydrogen and helium.\n",
      "2.  It’s incredibly hot, with surface temperatures reaching 5,500°F (2,870°C).\n",
      "3.  The sun’s energy warms Earth and makes life possible.\n",
      "4.  It generates light and heat through nuclear fusion.\n",
      "5.  It’s constantly moving, though incredibly slowly.\n"
     ]
    }
   ],
   "source": [
    "question = templete.invoke({\"topic\": \"sun\", \"points\": 5, \"school\": \"Elimentary\"})  #   Fills in all placeholders at once.\n",
    "response = llm.invoke(question)\n",
    "print(f\"Response: {response.content}\")"
   ]
  }
 ],
 "metadata": {
  "kernelspec": {
   "display_name": ".venv-1 (3.13.7)",
   "language": "python",
   "name": "python3"
  },
  "language_info": {
   "codemirror_mode": {
    "name": "ipython",
    "version": 3
   },
   "file_extension": ".py",
   "mimetype": "text/x-python",
   "name": "python",
   "nbconvert_exporter": "python",
   "pygments_lexer": "ipython3",
   "version": "3.13.7"
  }
 },
 "nbformat": 4,
 "nbformat_minor": 5
}
